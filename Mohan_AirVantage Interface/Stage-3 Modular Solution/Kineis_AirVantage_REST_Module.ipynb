{
 "cells": [
  {
   "cell_type": "code",
   "execution_count": null,
   "metadata": {},
   "outputs": [],
   "source": [
    "import requests, json\n",
    "import subprocess\n",
    "import getpass"
   ]
  },
  {
   "cell_type": "code",
   "execution_count": null,
   "metadata": {},
   "outputs": [],
   "source": [
    "# Hard-coding credentials inorder to make it a package\n",
    "\n",
    "RO_user = 'smohanp18@gmail.com'\n",
    "RO_password = '#$Kineis2020' \n",
    "client_id = '847ec44018f442538b3d342c0b08fe44'\n",
    "client_secret = '3b9c1a5b47ab4bcc8dfdd04acfa6c08e'\n",
    "\n",
    "token_url = \"https://eu.airvantage.net/api/oauth/token\"\n",
    "\n",
    "data = {'grant_type': 'password','username': RO_user, 'password': RO_password}\n",
    "access_token_response = requests.post(token_url, data=data, verify=False, allow_redirects=False, auth=(client_id, client_secret))\n",
    "tokens = json.loads(access_token_response.text)"
   ]
  },
  {
   "cell_type": "code",
   "execution_count": null,
   "metadata": {},
   "outputs": [],
   "source": [
    "\n",
    "def getSensorData(url):\n",
    "    api_call_headers = {'Authorization': 'Bearer ' + tokens['access_token']}\n",
    "    api_call_response = requests.get(url, headers=api_call_headers, verify=False)\n",
    "    return(api_call_response.text)\n"
   ]
  }
 ],
 "metadata": {
  "kernelspec": {
   "display_name": "Python 3",
   "language": "python",
   "name": "python3"
  },
  "language_info": {
   "codemirror_mode": {
    "name": "ipython",
    "version": 3
   },
   "file_extension": ".py",
   "mimetype": "text/x-python",
   "name": "python",
   "nbconvert_exporter": "python",
   "pygments_lexer": "ipython3",
   "version": "3.7.4"
  }
 },
 "nbformat": 4,
 "nbformat_minor": 2
}
