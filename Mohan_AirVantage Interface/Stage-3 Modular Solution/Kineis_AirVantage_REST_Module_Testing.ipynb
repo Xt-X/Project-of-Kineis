{
 "cells": [
  {
   "cell_type": "code",
   "execution_count": 1,
   "metadata": {},
   "outputs": [
    {
     "name": "stderr",
     "output_type": "stream",
     "text": [
      "C:\\Users\\Mohan\\Anaconda3\\lib\\site-packages\\urllib3\\connectionpool.py:847: InsecureRequestWarning: Unverified HTTPS request is being made. Adding certificate verification is strongly advised. See: https://urllib3.readthedocs.io/en/latest/advanced-usage.html#ssl-warnings\n",
      "  InsecureRequestWarning)\n"
     ]
    }
   ],
   "source": [
    "# pip install ipynb - for the first time\n",
    "from ipynb.fs.full.Kineis_AirVantage_REST_Module import getSensorData "
   ]
  },
  {
   "cell_type": "code",
   "execution_count": 2,
   "metadata": {},
   "outputs": [
    {
     "name": "stderr",
     "output_type": "stream",
     "text": [
      "C:\\Users\\Mohan\\Anaconda3\\lib\\site-packages\\urllib3\\connectionpool.py:847: InsecureRequestWarning: Unverified HTTPS request is being made. Adding certificate verification is strongly advised. See: https://urllib3.readthedocs.io/en/latest/advanced-usage.html#ssl-warnings\n",
      "  InsecureRequestWarning)\n"
     ]
    },
    {
     "data": {
      "text/plain": [
       "'{\"MangOH.Sensors.Accelerometer.Acceleration.X\":[{\"value\":\"0.106444\",\"timestamp\":1572365707770}],\"MangOH.Sensors.Accelerometer.Acceleration.Y\":[{\"value\":\"-0.66079\",\"timestamp\":1572365707770}],\"MangOH.Sensors.Accelerometer.Acceleration.Z\":[{\"value\":\"9.915438\",\"timestamp\":1572365707770}],\"MangOH.Sensors.Accelerometer.Gyro.X\":[{\"value\":\"0.011715\",\"timestamp\":1572365707770}],\"MangOH.Sensors.Accelerometer.Gyro.Y\":[{\"value\":\"0.028755\",\"timestamp\":1572365707770}],\"MangOH.Sensors.Accelerometer.Gyro.Z\":[{\"value\":\"0.0213\",\"timestamp\":1572365707770}],\"MangOH.Sensors.Light.Level\":[{\"value\":\"828\",\"timestamp\":1572365707770}],\"MangOH.Sensors.Pressure.Pressure\":[{\"value\":\"100.023144531\",\"timestamp\":1572365707770}],\"MangOH.Sensors.Pressure.Temperature\":[{\"value\":\"34.05\",\"timestamp\":1572365707770}]}\\n'"
      ]
     },
     "execution_count": 2,
     "metadata": {},
     "output_type": "execute_result"
    }
   ],
   "source": [
    "sensor_data_by_uid_prefix = \"https://eu.airvantage.net/api/v1/systems/beb91e6f88984b27b8fca27506a85cc9/data?idPrefix=MangOH.Sensors\"\n",
    "getSensorData(sensor_data_by_uid_prefix)"
   ]
  }
 ],
 "metadata": {
  "kernelspec": {
   "display_name": "Python 3",
   "language": "python",
   "name": "python3"
  },
  "language_info": {
   "codemirror_mode": {
    "name": "ipython",
    "version": 3
   },
   "file_extension": ".py",
   "mimetype": "text/x-python",
   "name": "python",
   "nbconvert_exporter": "python",
   "pygments_lexer": "ipython3",
   "version": "3.7.4"
  }
 },
 "nbformat": 4,
 "nbformat_minor": 2
}
