{
 "cells": [
  {
   "cell_type": "code",
   "execution_count": null,
   "metadata": {},
   "outputs": [],
   "source": [
    "import requests, json\n",
    "from datetime import datetime, timedelta\n",
    "from dateutil.parser import parse"
   ]
  },
  {
   "cell_type": "code",
   "execution_count": null,
   "metadata": {},
   "outputs": [],
   "source": [
    "# Hard-coding credentials inorder to make it a package\n",
    "\n",
    "RO_user = 'smohanp18@gmail.com'\n",
    "RO_password = '#$Kineis2020' \n",
    "client_id = '847ec44018f442538b3d342c0b08fe44'\n",
    "client_secret = '3b9c1a5b47ab4bcc8dfdd04acfa6c08e'\n",
    "\n",
    "token_url = \"https://eu.airvantage.net/api/oauth/token\"\n",
    "\n",
    "data = {'grant_type': 'password','username': RO_user, 'password': RO_password}\n",
    "access_token_response = requests.post(token_url, data=data, verify=False, allow_redirects=False, auth=(client_id, client_secret))\n",
    "tokens = json.loads(access_token_response.text)"
   ]
  },
  {
   "cell_type": "code",
   "execution_count": null,
   "metadata": {},
   "outputs": [],
   "source": [
    "raw_data_url = \"https://eu.airvantage.net/api/v1/systems/data/raw?targetIds=beb91e6f88984b27b8fca27506a85cc9&dataIds=MangOH.Sensors.Accelerometer.Acceleration.X,MangOH.Sensors.Accelerometer.Acceleration.Y,MangOH.Sensors.Accelerometer.Acceleration.Z,MangOH.Sensors.Accelerometer.Gyro.X,MangOH.Sensors.Accelerometer.Gyro.Y,MangOH.Sensors.Accelerometer.Gyro.Z,MangOH.Sensors.Light.Level,MangOH.Sensors.Pressure.Pressure,MangOH.Sensors.Pressure.Temperature\""
   ]
  },
  {
   "cell_type": "code",
   "execution_count": null,
   "metadata": {},
   "outputs": [],
   "source": [
    "def getDataForDateRange(from_date, to_date):\n",
    "    \n",
    "    # Converting date into timestamp\n",
    "    # To match airvantage timestamp - Multiply by 1000 & converting float into int \n",
    "    from_timestamp = int((datetime.timestamp(parse(from_date))) * 1000)\n",
    "    to_timestamp = int((datetime.timestamp(parse(to_date))) * 1000)\n",
    "\n",
    "    # Append the from - to : date filter to the raw_url\n",
    "    timestamp_filter = '&from=' + str(from_timestamp) + '&to=' + str(to_timestamp)\n",
    "    url = raw_data_url + timestamp_filter\n",
    "\n",
    "    # Calling the API\n",
    "    api_call_headers = {'Authorization': 'Bearer ' + tokens['access_token']}\n",
    "    api_call_response = requests.get(url, headers=api_call_headers, verify=False)\n",
    "    return(api_call_response.text)\n"
   ]
  },
  {
   "cell_type": "code",
   "execution_count": null,
   "metadata": {},
   "outputs": [],
   "source": [
    "def getDataFromNoOfDays(number_of_days):\n",
    "    \n",
    "    # Converting date into timestamp\n",
    "    # To match airvantage timestamp - Multiply by 1000 & converting float into int \n",
    "    from_timestamp = int((datetime.timestamp(datetime.now() - timedelta(days=number_of_days))) * 1000)\n",
    "    to_timestamp = int((datetime.timestamp((datetime.now()))) * 1000)\n",
    "\n",
    "    # Append the from - to : date filter to the raw_url\n",
    "    timestamp_filter = '&from=' + str(from_timestamp) + '&to=' + str(to_timestamp)\n",
    "    url = raw_data_url + timestamp_filter\n",
    "\n",
    "    # Calling the API\n",
    "    api_call_headers = {'Authorization': 'Bearer ' + tokens['access_token']}\n",
    "    api_call_response = requests.get(url, headers=api_call_headers, verify=False)\n",
    "    return(api_call_response.text)\n",
    "    "
   ]
  }
 ],
 "metadata": {
  "kernelspec": {
   "display_name": "Python 3",
   "language": "python",
   "name": "python3"
  },
  "language_info": {
   "codemirror_mode": {
    "name": "ipython",
    "version": 3
   },
   "file_extension": ".py",
   "mimetype": "text/x-python",
   "name": "python",
   "nbconvert_exporter": "python",
   "pygments_lexer": "ipython3",
   "version": "3.7.4"
  }
 },
 "nbformat": 4,
 "nbformat_minor": 2
}
